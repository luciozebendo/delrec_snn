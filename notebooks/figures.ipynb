{
 "cells": [
  {
   "cell_type": "code",
   "execution_count": 1,
   "metadata": {},
   "outputs": [],
   "source": [
    "import pandas as pd\n",
    "import matplotlib.pyplot as plt\n",
    "import seaborn as sns\n",
    "import scienceplots\n",
    "import plotly.graph_objects as go\n",
    "import plotly.express as px \n",
    "from plotly.subplots import make_subplots\n",
    "from pathlib import Path\n",
    "import numpy as np\n",
    "import os\n",
    "import math\n",
    "import plotly.io as pio\n",
    "import re"
   ]
  },
  {
   "cell_type": "markdown",
   "metadata": {},
   "source": [
    "# Accuracies"
   ]
  },
  {
   "cell_type": "code",
   "execution_count": null,
   "metadata": {},
   "outputs": [
    {
     "name": "stdout",
     "output_type": "stream",
     "text": [
      "Saved SVG to: ../figures/accuracy_best_bar.svg\n"
     ]
    },
    {
     "data": {
      "application/vnd.plotly.v1+json": {
       "config": {
        "plotlyServerURL": "https://plot.ly"
       },
       "data": [
        {
         "customdata": {
          "bdata": "AAAAAAAZxECYezT6d3nrPwAAAAAABMRAtHJ+CVsb4j8AAAAAAATEQDsCVFM8+u8/AAAAAABpxEB3Skl2v5P1PwAAAAAAiMVA0qmaXDyl5j8AAAAAAATEQFazNyMLFg1A",
          "dtype": "f8",
          "shape": "6, 2"
         },
         "error_y": {
          "array": {
           "bdata": "mHs0+nd56z+0cn4JWxviPzsCVFM8+u8/d0pJdr+T9T/SqZpcPKXmP1azNyMLFg1A",
           "dtype": "f8"
          },
          "color": "black",
          "thickness": 1.5,
          "type": "data",
          "visible": true,
          "width": 8
         },
         "hovertemplate": "<b>%{x}</b><br>Params: %{customdata[0]}<br>Acc: %{y:.2f}%<br>SEM: %{customdata[1]:.2f}%<extra></extra>",
         "marker": {
          "color": [
           "#636EFA",
           "#EF553B",
           "#00CC96",
           "#AB63FA",
           "#FFA15A",
           "#19D3F3"
          ],
          "line": {
           "color": "black",
           "width": 0.6
          }
         },
         "name": "",
         "text": [
          "10k",
          "10k",
          "10k",
          "10k",
          "11k",
          "10k"
         ],
         "textfont": {
          "size": 12
         },
         "textposition": "outside",
         "type": "bar",
         "x": [
          "SNN_recurrent_delays",
          "SNN_fixed_recurrent_delays",
          "SNN_feedforward_delays",
          "SNN_recurrent_and_feedforward_delays",
          "SNN",
          "SNN_vanilla_recurrent"
         ],
         "y": {
          "bdata": "6m2fylc3VECh68kpMZdTQOGAeRbAj1NA2e/dyGRyUkBwkvfXwbxNQEs66m2fNkRA",
          "dtype": "f8"
         }
        }
       ],
       "layout": {
        "bargap": 0.12,
        "bargroupgap": 0,
        "font": {
         "family": "Times New Roman, serif",
         "size": 16
        },
        "height": 500,
        "margin": {
         "b": 80,
         "l": 80,
         "r": 20,
         "t": 40
        },
        "showlegend": false,
        "template": {
         "data": {
          "bar": [
           {
            "error_x": {
             "color": "#2a3f5f"
            },
            "error_y": {
             "color": "#2a3f5f"
            },
            "marker": {
             "line": {
              "color": "white",
              "width": 0.5
             },
             "pattern": {
              "fillmode": "overlay",
              "size": 10,
              "solidity": 0.2
             }
            },
            "type": "bar"
           }
          ],
          "barpolar": [
           {
            "marker": {
             "line": {
              "color": "white",
              "width": 0.5
             },
             "pattern": {
              "fillmode": "overlay",
              "size": 10,
              "solidity": 0.2
             }
            },
            "type": "barpolar"
           }
          ],
          "carpet": [
           {
            "aaxis": {
             "endlinecolor": "#2a3f5f",
             "gridcolor": "#C8D4E3",
             "linecolor": "#C8D4E3",
             "minorgridcolor": "#C8D4E3",
             "startlinecolor": "#2a3f5f"
            },
            "baxis": {
             "endlinecolor": "#2a3f5f",
             "gridcolor": "#C8D4E3",
             "linecolor": "#C8D4E3",
             "minorgridcolor": "#C8D4E3",
             "startlinecolor": "#2a3f5f"
            },
            "type": "carpet"
           }
          ],
          "choropleth": [
           {
            "colorbar": {
             "outlinewidth": 0,
             "ticks": ""
            },
            "type": "choropleth"
           }
          ],
          "contour": [
           {
            "colorbar": {
             "outlinewidth": 0,
             "ticks": ""
            },
            "colorscale": [
             [
              0,
              "#0d0887"
             ],
             [
              0.1111111111111111,
              "#46039f"
             ],
             [
              0.2222222222222222,
              "#7201a8"
             ],
             [
              0.3333333333333333,
              "#9c179e"
             ],
             [
              0.4444444444444444,
              "#bd3786"
             ],
             [
              0.5555555555555556,
              "#d8576b"
             ],
             [
              0.6666666666666666,
              "#ed7953"
             ],
             [
              0.7777777777777778,
              "#fb9f3a"
             ],
             [
              0.8888888888888888,
              "#fdca26"
             ],
             [
              1,
              "#f0f921"
             ]
            ],
            "type": "contour"
           }
          ],
          "contourcarpet": [
           {
            "colorbar": {
             "outlinewidth": 0,
             "ticks": ""
            },
            "type": "contourcarpet"
           }
          ],
          "heatmap": [
           {
            "colorbar": {
             "outlinewidth": 0,
             "ticks": ""
            },
            "colorscale": [
             [
              0,
              "#0d0887"
             ],
             [
              0.1111111111111111,
              "#46039f"
             ],
             [
              0.2222222222222222,
              "#7201a8"
             ],
             [
              0.3333333333333333,
              "#9c179e"
             ],
             [
              0.4444444444444444,
              "#bd3786"
             ],
             [
              0.5555555555555556,
              "#d8576b"
             ],
             [
              0.6666666666666666,
              "#ed7953"
             ],
             [
              0.7777777777777778,
              "#fb9f3a"
             ],
             [
              0.8888888888888888,
              "#fdca26"
             ],
             [
              1,
              "#f0f921"
             ]
            ],
            "type": "heatmap"
           }
          ],
          "histogram": [
           {
            "marker": {
             "pattern": {
              "fillmode": "overlay",
              "size": 10,
              "solidity": 0.2
             }
            },
            "type": "histogram"
           }
          ],
          "histogram2d": [
           {
            "colorbar": {
             "outlinewidth": 0,
             "ticks": ""
            },
            "colorscale": [
             [
              0,
              "#0d0887"
             ],
             [
              0.1111111111111111,
              "#46039f"
             ],
             [
              0.2222222222222222,
              "#7201a8"
             ],
             [
              0.3333333333333333,
              "#9c179e"
             ],
             [
              0.4444444444444444,
              "#bd3786"
             ],
             [
              0.5555555555555556,
              "#d8576b"
             ],
             [
              0.6666666666666666,
              "#ed7953"
             ],
             [
              0.7777777777777778,
              "#fb9f3a"
             ],
             [
              0.8888888888888888,
              "#fdca26"
             ],
             [
              1,
              "#f0f921"
             ]
            ],
            "type": "histogram2d"
           }
          ],
          "histogram2dcontour": [
           {
            "colorbar": {
             "outlinewidth": 0,
             "ticks": ""
            },
            "colorscale": [
             [
              0,
              "#0d0887"
             ],
             [
              0.1111111111111111,
              "#46039f"
             ],
             [
              0.2222222222222222,
              "#7201a8"
             ],
             [
              0.3333333333333333,
              "#9c179e"
             ],
             [
              0.4444444444444444,
              "#bd3786"
             ],
             [
              0.5555555555555556,
              "#d8576b"
             ],
             [
              0.6666666666666666,
              "#ed7953"
             ],
             [
              0.7777777777777778,
              "#fb9f3a"
             ],
             [
              0.8888888888888888,
              "#fdca26"
             ],
             [
              1,
              "#f0f921"
             ]
            ],
            "type": "histogram2dcontour"
           }
          ],
          "mesh3d": [
           {
            "colorbar": {
             "outlinewidth": 0,
             "ticks": ""
            },
            "type": "mesh3d"
           }
          ],
          "parcoords": [
           {
            "line": {
             "colorbar": {
              "outlinewidth": 0,
              "ticks": ""
             }
            },
            "type": "parcoords"
           }
          ],
          "pie": [
           {
            "automargin": true,
            "type": "pie"
           }
          ],
          "scatter": [
           {
            "fillpattern": {
             "fillmode": "overlay",
             "size": 10,
             "solidity": 0.2
            },
            "type": "scatter"
           }
          ],
          "scatter3d": [
           {
            "line": {
             "colorbar": {
              "outlinewidth": 0,
              "ticks": ""
             }
            },
            "marker": {
             "colorbar": {
              "outlinewidth": 0,
              "ticks": ""
             }
            },
            "type": "scatter3d"
           }
          ],
          "scattercarpet": [
           {
            "marker": {
             "colorbar": {
              "outlinewidth": 0,
              "ticks": ""
             }
            },
            "type": "scattercarpet"
           }
          ],
          "scattergeo": [
           {
            "marker": {
             "colorbar": {
              "outlinewidth": 0,
              "ticks": ""
             }
            },
            "type": "scattergeo"
           }
          ],
          "scattergl": [
           {
            "marker": {
             "colorbar": {
              "outlinewidth": 0,
              "ticks": ""
             }
            },
            "type": "scattergl"
           }
          ],
          "scattermap": [
           {
            "marker": {
             "colorbar": {
              "outlinewidth": 0,
              "ticks": ""
             }
            },
            "type": "scattermap"
           }
          ],
          "scattermapbox": [
           {
            "marker": {
             "colorbar": {
              "outlinewidth": 0,
              "ticks": ""
             }
            },
            "type": "scattermapbox"
           }
          ],
          "scatterpolar": [
           {
            "marker": {
             "colorbar": {
              "outlinewidth": 0,
              "ticks": ""
             }
            },
            "type": "scatterpolar"
           }
          ],
          "scatterpolargl": [
           {
            "marker": {
             "colorbar": {
              "outlinewidth": 0,
              "ticks": ""
             }
            },
            "type": "scatterpolargl"
           }
          ],
          "scatterternary": [
           {
            "marker": {
             "colorbar": {
              "outlinewidth": 0,
              "ticks": ""
             }
            },
            "type": "scatterternary"
           }
          ],
          "surface": [
           {
            "colorbar": {
             "outlinewidth": 0,
             "ticks": ""
            },
            "colorscale": [
             [
              0,
              "#0d0887"
             ],
             [
              0.1111111111111111,
              "#46039f"
             ],
             [
              0.2222222222222222,
              "#7201a8"
             ],
             [
              0.3333333333333333,
              "#9c179e"
             ],
             [
              0.4444444444444444,
              "#bd3786"
             ],
             [
              0.5555555555555556,
              "#d8576b"
             ],
             [
              0.6666666666666666,
              "#ed7953"
             ],
             [
              0.7777777777777778,
              "#fb9f3a"
             ],
             [
              0.8888888888888888,
              "#fdca26"
             ],
             [
              1,
              "#f0f921"
             ]
            ],
            "type": "surface"
           }
          ],
          "table": [
           {
            "cells": {
             "fill": {
              "color": "#EBF0F8"
             },
             "line": {
              "color": "white"
             }
            },
            "header": {
             "fill": {
              "color": "#C8D4E3"
             },
             "line": {
              "color": "white"
             }
            },
            "type": "table"
           }
          ]
         },
         "layout": {
          "annotationdefaults": {
           "arrowcolor": "#2a3f5f",
           "arrowhead": 0,
           "arrowwidth": 1
          },
          "autotypenumbers": "strict",
          "coloraxis": {
           "colorbar": {
            "outlinewidth": 0,
            "ticks": ""
           }
          },
          "colorscale": {
           "diverging": [
            [
             0,
             "#8e0152"
            ],
            [
             0.1,
             "#c51b7d"
            ],
            [
             0.2,
             "#de77ae"
            ],
            [
             0.3,
             "#f1b6da"
            ],
            [
             0.4,
             "#fde0ef"
            ],
            [
             0.5,
             "#f7f7f7"
            ],
            [
             0.6,
             "#e6f5d0"
            ],
            [
             0.7,
             "#b8e186"
            ],
            [
             0.8,
             "#7fbc41"
            ],
            [
             0.9,
             "#4d9221"
            ],
            [
             1,
             "#276419"
            ]
           ],
           "sequential": [
            [
             0,
             "#0d0887"
            ],
            [
             0.1111111111111111,
             "#46039f"
            ],
            [
             0.2222222222222222,
             "#7201a8"
            ],
            [
             0.3333333333333333,
             "#9c179e"
            ],
            [
             0.4444444444444444,
             "#bd3786"
            ],
            [
             0.5555555555555556,
             "#d8576b"
            ],
            [
             0.6666666666666666,
             "#ed7953"
            ],
            [
             0.7777777777777778,
             "#fb9f3a"
            ],
            [
             0.8888888888888888,
             "#fdca26"
            ],
            [
             1,
             "#f0f921"
            ]
           ],
           "sequentialminus": [
            [
             0,
             "#0d0887"
            ],
            [
             0.1111111111111111,
             "#46039f"
            ],
            [
             0.2222222222222222,
             "#7201a8"
            ],
            [
             0.3333333333333333,
             "#9c179e"
            ],
            [
             0.4444444444444444,
             "#bd3786"
            ],
            [
             0.5555555555555556,
             "#d8576b"
            ],
            [
             0.6666666666666666,
             "#ed7953"
            ],
            [
             0.7777777777777778,
             "#fb9f3a"
            ],
            [
             0.8888888888888888,
             "#fdca26"
            ],
            [
             1,
             "#f0f921"
            ]
           ]
          },
          "colorway": [
           "#636efa",
           "#EF553B",
           "#00cc96",
           "#ab63fa",
           "#FFA15A",
           "#19d3f3",
           "#FF6692",
           "#B6E880",
           "#FF97FF",
           "#FECB52"
          ],
          "font": {
           "color": "#2a3f5f"
          },
          "geo": {
           "bgcolor": "white",
           "lakecolor": "white",
           "landcolor": "white",
           "showlakes": true,
           "showland": true,
           "subunitcolor": "#C8D4E3"
          },
          "hoverlabel": {
           "align": "left"
          },
          "hovermode": "closest",
          "mapbox": {
           "style": "light"
          },
          "paper_bgcolor": "white",
          "plot_bgcolor": "white",
          "polar": {
           "angularaxis": {
            "gridcolor": "#EBF0F8",
            "linecolor": "#EBF0F8",
            "ticks": ""
           },
           "bgcolor": "white",
           "radialaxis": {
            "gridcolor": "#EBF0F8",
            "linecolor": "#EBF0F8",
            "ticks": ""
           }
          },
          "scene": {
           "xaxis": {
            "backgroundcolor": "white",
            "gridcolor": "#DFE8F3",
            "gridwidth": 2,
            "linecolor": "#EBF0F8",
            "showbackground": true,
            "ticks": "",
            "zerolinecolor": "#EBF0F8"
           },
           "yaxis": {
            "backgroundcolor": "white",
            "gridcolor": "#DFE8F3",
            "gridwidth": 2,
            "linecolor": "#EBF0F8",
            "showbackground": true,
            "ticks": "",
            "zerolinecolor": "#EBF0F8"
           },
           "zaxis": {
            "backgroundcolor": "white",
            "gridcolor": "#DFE8F3",
            "gridwidth": 2,
            "linecolor": "#EBF0F8",
            "showbackground": true,
            "ticks": "",
            "zerolinecolor": "#EBF0F8"
           }
          },
          "shapedefaults": {
           "line": {
            "color": "#2a3f5f"
           }
          },
          "ternary": {
           "aaxis": {
            "gridcolor": "#DFE8F3",
            "linecolor": "#A2B1C6",
            "ticks": ""
           },
           "baxis": {
            "gridcolor": "#DFE8F3",
            "linecolor": "#A2B1C6",
            "ticks": ""
           },
           "bgcolor": "white",
           "caxis": {
            "gridcolor": "#DFE8F3",
            "linecolor": "#A2B1C6",
            "ticks": ""
           }
          },
          "title": {
           "x": 0.05
          },
          "xaxis": {
           "automargin": true,
           "gridcolor": "#EBF0F8",
           "linecolor": "#EBF0F8",
           "ticks": "",
           "title": {
            "standoff": 15
           },
           "zerolinecolor": "#EBF0F8",
           "zerolinewidth": 2
          },
          "yaxis": {
           "automargin": true,
           "gridcolor": "#EBF0F8",
           "linecolor": "#EBF0F8",
           "ticks": "",
           "title": {
            "standoff": 15
           },
           "zerolinecolor": "#EBF0F8",
           "zerolinewidth": 2
          }
         }
        },
        "width": 800,
        "xaxis": {
         "categoryarray": [
          "SNN_vanilla_recurrent",
          "SNN",
          "SNN_recurrent_and_feedforward_delays",
          "SNN_feedforward_delays",
          "SNN_fixed_recurrent_delays",
          "SNN_recurrent_delays"
         ],
         "categoryorder": "array",
         "title": {
          "text": "Model"
         }
        },
        "yaxis": {
         "dtick": 10,
         "gridcolor": "rgba(0,0,0,0.08)",
         "gridwidth": 1,
         "linecolor": "black",
         "linewidth": 2,
         "minor": {
          "dtick": 5,
          "gridcolor": "rgba(0,0,0,0.05)",
          "gridwidth": 0.5,
          "showgrid": true,
          "tick0": 5,
          "ticklen": 3,
          "tickmode": "linear",
          "ticks": "outside"
         },
         "range": [
          30,
          83.86473336762688
         ],
         "showgrid": true,
         "showline": true,
         "tick0": 10,
         "tickcolor": "black",
         "tickformat": ".0f",
         "ticklabelposition": "outside",
         "ticklen": 6,
         "ticks": "outside",
         "ticksuffix": "%",
         "tickwidth": 1.8,
         "title": {
          "text": "Test accuracy (%)"
         }
        }
       }
      }
     },
     "metadata": {},
     "output_type": "display_data"
    }
   ],
   "source": [
    "csv_path = None # e.g \"../exp/..\" : the path to the CSV file with SHD_equiparams results \n",
    "figure_path = \"../figures/\"\n",
    "use_log_x = False\n",
    "acc_in_pct = True\n",
    "\n",
    "df = pd.read_csv(csv_path)\n",
    "\n",
    "df = df.dropna(subset=[\"model\", \"num_params\", \"final_test_acc\", \"seed\"])\n",
    "df[\"num_params\"] = pd.to_numeric(df[\"num_params\"], errors=\"coerce\")\n",
    "df = df.dropna(subset=[\"num_params\"])\n",
    "df[\"num_params\"] = df[\"num_params\"].astype(int)\n",
    "\n",
    "df = df.sort_index().drop_duplicates(subset=[\"model\", \"num_params\", \"seed\"], keep=\"last\")\n",
    "\n",
    "grp = (\n",
    "    df.groupby([\"model\", \"num_params\"])\n",
    "      .agg(\n",
    "          mean_acc=(\"final_test_acc\", \"mean\"),\n",
    "          std_acc=(\"final_test_acc\", \"std\"),\n",
    "          n=(\"seed\", \"nunique\"),\n",
    "      )\n",
    "      .reset_index()\n",
    ")\n",
    "\n",
    "grp[\"sem_acc\"] = grp.apply(\n",
    "    lambda r: 0.0 if (pd.isna(r[\"std_acc\"]) or r[\"n\"] <= 1) else r[\"std_acc\"] / math.sqrt(r[\"n\"]),\n",
    "    axis=1\n",
    ")\n",
    "\n",
    "\n",
    "if acc_in_pct:\n",
    "    grp[\"std_acc_plot\"] = grp[\"std_acc\"]\n",
    "else:\n",
    "    grp[\"std_acc_plot\"] = 100.0 * grp[\"std_acc\"]\n",
    "\n",
    "acc_in_pct = grp[\"mean_acc\"].max() > 1.001\n",
    "if acc_in_pct:\n",
    "    grp[\"mean_acc_plot\"] = grp[\"mean_acc\"]\n",
    "    grp[\"sem_acc_plot\"]  = grp[\"sem_acc\"]\n",
    "    yaxis_title = \"Test accuracy (%)\"\n",
    "else:\n",
    "    grp[\"mean_acc_plot\"] = 100.0 * grp[\"mean_acc\"]\n",
    "    grp[\"sem_acc_plot\"]  = 100.0 * grp[\"sem_acc\"]\n",
    "    yaxis_title = \"Test accuracy (%)\"\n",
    "\n",
    "grp = grp.sort_values([\"model\", \"num_params\"]).reset_index(drop=True)\n",
    "\n",
    "best = (\n",
    "    grp.sort_values([\"model\", \"num_params\"])\n",
    "       .groupby(\"model\", as_index=False)\n",
    "       .tail(1)\n",
    "       .copy()\n",
    ")\n",
    "best = best.sort_values(\"mean_acc_plot\", ascending=False).reset_index(drop=True)\n",
    "\n",
    "def fmt_params(n):\n",
    "    if n >= 1_000_000:\n",
    "        return f\"{n/1_000_000:.2f}M\"\n",
    "    if n >= 1_000:\n",
    "        return f\"{int(round(n/1_000))}k\"\n",
    "    return str(n)\n",
    "\n",
    "best[\"params_label\"] = best[\"num_params\"].apply(fmt_params)\n",
    "\n",
    "palette = px.colors.qualitative.Plotly\n",
    "colors = [palette[i % len(palette)] for i in range(len(best))]\n",
    "\n",
    "y_min = 30\n",
    "y_max = float(best[\"mean_acc_plot\"].max())\n",
    "y_top = min(100.0, y_max + 3.0)\n",
    "\n",
    "fig = go.Figure()\n",
    "\n",
    "fig.add_trace(go.Bar(\n",
    "    x=best[\"model\"],\n",
    "    y=best[\"mean_acc_plot\"],\n",
    "    marker_color=colors,\n",
    "    text=best[\"params_label\"],\n",
    "    textposition=\"outside\",\n",
    "    textfont=dict(size=12),\n",
    "    error_y=dict(\n",
    "        type=\"data\",\n",
    "        array=best[\"sem_acc_plot\"],\n",
    "        visible=True,\n",
    "        color=\"black\",\n",
    "        thickness=1.5, \n",
    "        width=8,        \n",
    "    ),\n",
    "    customdata=np.c_[best[\"num_params\"], best[\"sem_acc_plot\"]],\n",
    "    hovertemplate=(\n",
    "        \"<b>%{x}</b><br>\"\n",
    "        \"Params: %{customdata[0]}<br>\"\n",
    "        \"Acc: %{y:.2f}%<br>\"\n",
    "        \"SEM: %{customdata[1]:.2f}%<extra></extra>\"\n",
    "    ),\n",
    "    name=\"\"\n",
    "))\n",
    "\n",
    "fig.update_xaxes(\n",
    "    title_text=\"Model\",\n",
    "    categoryorder=\"array\",\n",
    "    categoryarray=list(best[\"model\"])[::-1]\n",
    ")\n",
    "\n",
    "fig.update_yaxes(\n",
    "    title_text=yaxis_title if 'yaxis_title' in globals() else \"Test accuracy (%)\",\n",
    "    range=[y_min, y_top],\n",
    "    ticks=\"outside\",\n",
    "    tick0=10,          \n",
    "    dtick=10,          \n",
    "    ticklen=6,\n",
    "    tickwidth=1.8,\n",
    "    tickcolor=\"black\",\n",
    "    ticklabelposition=\"outside\",\n",
    "    tickformat=\".0f\", \n",
    "    ticksuffix=\"%\",\n",
    "    showline=True,\n",
    "    linecolor=\"black\",\n",
    "    linewidth=2,\n",
    "    showgrid=True,\n",
    "    gridcolor=\"rgba(0,0,0,0.08)\",\n",
    "    gridwidth=1\n",
    ")\n",
    "\n",
    "fig.update_yaxes(minor=dict(\n",
    "    tickmode=\"linear\",\n",
    "    dtick=5,\n",
    "    tick0=5,\n",
    "    ticks=\"outside\",\n",
    "    ticklen=3,\n",
    "    showgrid=True,\n",
    "    gridcolor=\"rgba(0,0,0,0.05)\",\n",
    "    gridwidth=0.5\n",
    "))\n",
    "\n",
    "fig.update_layout(\n",
    "    template=\"plotly_white\",\n",
    "    font=dict(family=\"Times New Roman, serif\", size=16),\n",
    "    showlegend=False,\n",
    "    bargap=0.12,              \n",
    "    bargroupgap=0.0,\n",
    "    height=500,\n",
    "    width=800,\n",
    "    margin=dict(l=80, r=20, t=40, b=80)\n",
    ")\n",
    "\n",
    "fig.update_traces(marker_line_color=\"black\", marker_line_width=0.6)\n",
    "\n",
    "os.makedirs(figure_path, exist_ok=True)\n",
    "\n",
    "bar_svg_path = os.path.join(os.path.dirname(figure_path), \"accuracy_best_bar.svg\")\n",
    "fig.write_image(bar_svg_path, format=\"svg\", width=800, height=500, scale=1)\n",
    "print(f\"Saved SVG to: {bar_svg_path}\")\n",
    "\n",
    "fig.show()"
   ]
  },
  {
   "cell_type": "markdown",
   "metadata": {},
   "source": [
    "# Accuracies as a function of parameters"
   ]
  },
  {
   "cell_type": "code",
   "execution_count": null,
   "metadata": {},
   "outputs": [
    {
     "name": "stdout",
     "output_type": "stream",
     "text": [
      "Saved SVG to: ../figures/accuracy_vs_params.svg\n"
     ]
    },
    {
     "data": {
      "application/vnd.plotly.v1+json": {
       "config": {
        "plotlyServerURL": "https://plot.ly"
       },
       "data": [
        {
         "hoverinfo": "skip",
         "legendgroup": "SNN",
         "line": {
          "width": 0
         },
         "mode": "lines",
         "showlegend": false,
         "type": "scatter",
         "x": {
          "bdata": "pAYAC6QPkBTEGUAfBCUQKw==",
          "dtype": "i2"
         },
         "y": {
          "bdata": "APTqAb3PP0DM7vYnKxpHQLPGDalPzUhAHL/SEWh9SkCre5NKFYFLQKmQ2oskdExABK9/77fxTEDJJ4XmLGJNQA==",
          "dtype": "f8"
         }
        },
        {
         "fill": "tonexty",
         "fillcolor": "rgba(99,110,250,0.18)",
         "hoverinfo": "skip",
         "legendgroup": "SNN",
         "line": {
          "width": 0
         },
         "mode": "lines",
         "name": "SNN ± SEM",
         "showlegend": true,
         "type": "scatter",
         "x": {
          "bdata": "pAYAC6QPkBTEGUAfBCUQKw==",
          "dtype": "i2"
         },
         "y": {
          "bdata": "ttXvqtz/QEA6U+0+qARIQDNlrbo0GktAerUBytabS0DV/YJ1kHtMQEELCnJR0E1AihNH68HfTUAX/WnJVhdOQA==",
          "dtype": "f8"
         }
        },
        {
         "customdata": {
          "bdata": "xyk6kst/8T8dWmQ730/tP0i/fR04ZwJAEOm3rwPn8T87AU2EDU/vPzSitDf4wvU//kP67evA7T9oImx4eqXmPw==",
          "dtype": "f8"
         },
         "hovertemplate": "<b>%{fullData.name}</b><br>#params: %{x}<br>Acc: %{y:.2f}%<br>SEM: %{customdata:.2f}%<extra></extra>",
         "legendgroup": "SNN",
         "line": {
          "color": "#636EFA"
         },
         "marker": {
          "color": "#636EFA"
         },
         "mode": "lines+markers",
         "name": "SNN mean",
         "type": "scatter",
         "x": {
          "bdata": "pAYAC6QPkBTEGUAfBCUQKw==",
          "dtype": "i2"
         },
         "y": {
          "bdata": "26fyld1zQEADIXKzaY9HQPOV3THC80lASzrqbZ8MS0DAPAvgUv5LQPVN8v46Ik1AR2Fj7bxoTUBwkvfXwbxNQA==",
          "dtype": "f8"
         }
        },
        {
         "hoverinfo": "skip",
         "legendgroup": "SNN_feedforward_delays",
         "line": {
          "width": 0
         },
         "mode": "lines",
         "showlegend": false,
         "type": "scatter",
         "x": {
          "bdata": "oAjIDYATyBmgIAgo",
          "dtype": "i2"
         },
         "y": {
          "bdata": "yOShzzOIO0B1QDmTYcxHQCS8yJwAu05AqqZmMzCfUUCGkaj3QBNSQN3Y0p3LT1NA",
          "dtype": "f8"
         }
        },
        {
         "fill": "tonexty",
         "fillcolor": "rgba(239,85,59,0.18)",
         "hoverinfo": "skip",
         "legendgroup": "SNN_feedforward_delays",
         "line": {
          "width": 0
         },
         "mode": "lines",
         "name": "SNN_feedforward_delays ± SEM",
         "showlegend": true,
         "type": "scatter",
         "x": {
          "bdata": "oAjIDYATyBmgIAgo",
          "dtype": "i2"
         },
         "y": {
          "bdata": "eFmXR4fxQ0Dxn7BDm0hKQLTXisUnPk9A4oS9jTrTUUDQHzfEUOZSQOUoII+0z1NA",
          "dtype": "f8"
         }
        },
        {
         "customdata": {
          "bdata": "9ihcj8K1GECL/WX35OEDQKK0N/jCZOA/L26jAbwF2j+L/WX35GH6P9GRXP5D+u8/",
          "dtype": "f8"
         },
         "hovertemplate": "<b>%{fullData.name}</b><br>#params: %{x}<br>Acc: %{y:.2f}%<br>SEM: %{customdata:.2f}%<extra></extra>",
         "legendgroup": "SNN_feedforward_delays",
         "line": {
          "color": "#EF553B"
         },
         "marker": {
          "color": "#EF553B"
         },
         "mode": "lines+markers",
         "name": "SNN_feedforward_delays mean",
         "type": "scatter",
         "x": {
          "bdata": "oAjIDYATyBmgIAgo",
          "dtype": "i2"
         },
         "y": {
          "bdata": "7iW0l9DaQEAz8HRrfgpJQOzJKTGU/E5AxhWSYDW5UUCr2O/dyHxSQOGAeRbAj1NA",
          "dtype": "f8"
         }
        },
        {
         "hoverinfo": "skip",
         "legendgroup": "SNN_fixed_recurrent_delays",
         "line": {
          "width": 0
         },
         "mode": "lines",
         "showlegend": false,
         "type": "scatter",
         "x": {
          "bdata": "oAjIDYATyBmgIAgo",
          "dtype": "i2"
         },
         "y": {
          "bdata": "qrJcUdRlQkCmWw0U0+JOQPFuagVyUlBALrDWH2kmUkCgEt6316VSQLzutnP6clNA",
          "dtype": "f8"
         }
        },
        {
         "fill": "tonexty",
         "fillcolor": "rgba(0,204,150,0.18)",
         "hoverinfo": "skip",
         "legendgroup": "SNN_fixed_recurrent_delays",
         "line": {
          "width": 0
         },
         "mode": "lines",
         "name": "SNN_fixed_recurrent_delays ± SEM",
         "showlegend": true,
         "type": "scatter",
         "x": {
          "bdata": "oAjIDYATyBmgIAgo",
          "dtype": "i2"
         },
         "y": {
          "bdata": "lhCYztg1REBQ/7dqHMhPQEEYrX8bP1FA4FDux+McU0CgsBZo1S1TQIbo3N9nu1NA",
          "dtype": "f8"
         }
        },
        {
         "customdata": {
          "bdata": "cayL22gA/T/T3uALk6nsP74wmSoYlf0/c9cS8kHP/j+PU3Qkl//wPyV1ApoIG+I/",
          "dtype": "f8"
         },
         "hovertemplate": "<b>%{fullData.name}</b><br>#params: %{x}<br>Acc: %{y:.2f}%<br>SEM: %{customdata:.2f}%<extra></extra>",
         "legendgroup": "SNN_fixed_recurrent_delays",
         "line": {
          "color": "#00CC96"
         },
         "marker": {
          "color": "#00CC96"
         },
         "mode": "lines+markers",
         "name": "SNN_fixed_recurrent_delays mean",
         "type": "scatter",
         "x": {
          "bdata": "oAjIDYATyBmgIAgo",
          "dtype": "i2"
         },
         "y": {
          "bdata": "oGH6j9ZNQ0B7rWK/d1VPQJnDi8LGyFBAh4Dic6ahUkCgYfqP1ulSQKHrySkxl1NA",
          "dtype": "f8"
         }
        },
        {
         "hoverinfo": "skip",
         "legendgroup": "SNN_recurrent_and_feedforward_delays",
         "line": {
          "width": 0
         },
         "mode": "lines",
         "showlegend": false,
         "type": "scatter",
         "x": {
          "bdata": "yAUaC0QRRhggINIo",
          "dtype": "i2"
         },
         "y": {
          "bdata": "BLYLTPQuLEDwOhF1LYhAQDd+ZDObxUlA7mvWyEgiUUASuye2CAxSQK/KBMsVHFJA",
          "dtype": "f8"
         }
        },
        {
         "fill": "tonexty",
         "fillcolor": "rgba(171,99,250,0.18)",
         "hoverinfo": "skip",
         "legendgroup": "SNN_recurrent_and_feedforward_delays",
         "line": {
          "width": 0
         },
         "mode": "lines",
         "name": "SNN_recurrent_and_feedforward_delays ± SEM",
         "showlegend": true,
         "type": "scatter",
         "x": {
          "bdata": "yAUaC0QRRhggINIo",
          "dtype": "i2"
         },
         "y": {
          "bdata": "mtuyHJiMM0D6JbvVdQdFQBnQJG65BUxA/DzhtOFwUUBqE6282K5SQAMVt8azyFJA",
          "dtype": "f8"
         }
        },
        {
         "customdata": {
          "bdata": "+MJkqmDUBUDpSC7/If0RQBsv3SQGAQJA2c73U+Ol4z8nMQisHFr0P2sr9pfdk/U/",
          "dtype": "f8"
         },
         "hovertemplate": "<b>%{fullData.name}</b><br>#params: %{x}<br>Acc: %{y:.2f}%<br>SEM: %{customdata:.2f}%<extra></extra>",
         "legendgroup": "SNN_recurrent_and_feedforward_delays",
         "line": {
          "color": "#AB63FA"
         },
         "marker": {
          "color": "#AB63FA"
         },
         "mode": "lines+markers",
         "name": "SNN_recurrent_and_feedforward_delays mean",
         "type": "scatter",
         "x": {
          "bdata": "yAUaC0QRRhggINIo",
          "dtype": "i2"
         },
         "y": {
          "bdata": "TltcIQnSMEB1MGal0cdCQCinxFCq5UpAddTbPpVJUUA+Z2q5cF1SQNnv3chkclJA",
          "dtype": "f8"
         }
        },
        {
         "hoverinfo": "skip",
         "legendgroup": "SNN_recurrent_delays",
         "line": {
          "width": 0
         },
         "mode": "lines",
         "showlegend": false,
         "type": "scatter",
         "x": {
          "bdata": "rAjaDZgT5hnEIDIo",
          "dtype": "i2"
         },
         "y": {
          "bdata": "eHyXHZQhRECjNeD/bvFOQJyy+cZz4VBAaEB/PORLUkDgvIiQ09lSQPMEq9pkAFRA",
          "dtype": "f8"
         }
        },
        {
         "fill": "tonexty",
         "fillcolor": "rgba(255,161,90,0.18)",
         "hoverinfo": "skip",
         "legendgroup": "SNN_recurrent_delays",
         "line": {
          "width": 0
         },
         "mode": "lines",
         "name": "SNN_recurrent_delays ± SEM",
         "showlegend": true,
         "type": "scatter",
         "x": {
          "bdata": "rAjaDZgT5hnEIDIo",
          "dtype": "i2"
         },
         "y": {
          "bdata": "AjHLoeONRUCbVpWkoBhQQEhYT+mmhFFAhuU0W+x0U0BeQYRCrMJTQOHWk7pKblRA",
          "dtype": "f8"
         }
        },
        {
         "customdata": {
          "bdata": "aQBvgQTF9j/pSC7/If3zP2ZmZmZmZvQ/48eYu5aQAkAldQKaCBv9PygPC7Wmees/",
          "dtype": "f8"
         },
         "hovertemplate": "<b>%{fullData.name}</b><br>#params: %{x}<br>Acc: %{y:.2f}%<br>SEM: %{customdata:.2f}%<extra></extra>",
         "legendgroup": "SNN_recurrent_delays",
         "line": {
          "color": "#FFA15A"
         },
         "marker": {
          "color": "#FFA15A"
         },
         "mode": "lines+markers",
         "name": "SNN_recurrent_delays mean",
         "type": "scatter",
         "x": {
          "bdata": "rAjaDZgT5hnEIDIo",
          "dtype": "i2"
         },
         "y": {
          "bdata": "vVax37vXREBtcYUkWJFPQHKFJFgNM1FA9xLaS2jgUkAff4bpP05TQOptn8pXN1RA",
          "dtype": "f8"
         }
        },
        {
         "hoverinfo": "skip",
         "legendgroup": "SNN_vanilla_recurrent",
         "line": {
          "width": 0
         },
         "mode": "lines",
         "showlegend": false,
         "type": "scatter",
         "x": {
          "bdata": "oAjIDYATyBmgIAgo",
          "dtype": "i2"
         },
         "y": {
          "bdata": "GErM9kpZMUD8gueU2PE3QE/fhX3xwzpAOeS/m8+8Q0DpMJc8uw46QBa/trs+ZUJA",
          "dtype": "f8"
         }
        },
        {
         "fill": "tonexty",
         "fillcolor": "rgba(25,211,243,0.18)",
         "hoverinfo": "skip",
         "legendgroup": "SNN_vanilla_recurrent",
         "line": {
          "width": 0
         },
         "mode": "lines",
         "name": "SNN_vanilla_recurrent ± SEM",
         "showlegend": true,
         "type": "scatter",
         "x": {
          "bdata": "oAjIDYATyBmgIAgo",
          "dtype": "i2"
         },
         "y": {
          "bdata": "TpYd4LEPM0BCHw0vKqdBQAahQexIB0NAUb2Ui0D9REAdyOkJLJlDQIC1HSAACEZA",
          "dtype": "f8"
         }
        },
        {
         "customdata": {
          "bdata": "1xLyQc9m6z9iodY077gWQPcGX5hMlRZAgnNGlPYG9D/XNO84RUcaQNlfdk8eFg1A",
          "dtype": "f8"
         },
         "hovertemplate": "<b>%{fullData.name}</b><br>#params: %{x}<br>Acc: %{y:.2f}%<br>SEM: %{customdata:.2f}%<extra></extra>",
         "legendgroup": "SNN_vanilla_recurrent",
         "line": {
          "color": "#19D3F3"
         },
         "marker": {
          "color": "#19D3F3"
         },
         "mode": "lines+markers",
         "name": "SNN_vanilla_recurrent mean",
         "type": "scatter",
         "x": {
          "bdata": "oAjIDYATyBmgIAgo",
          "dtype": "i2"
         },
         "y": {
          "bdata": "M/B0a340MkDA4IB5FqA9QFdIgtWgNEBAxVCqEwhdREBJsBrURFBAQEs66m2fNkRA",
          "dtype": "f8"
         }
        }
       ],
       "layout": {
        "template": {
         "data": {
          "bar": [
           {
            "error_x": {
             "color": "#2a3f5f"
            },
            "error_y": {
             "color": "#2a3f5f"
            },
            "marker": {
             "line": {
              "color": "#E5ECF6",
              "width": 0.5
             },
             "pattern": {
              "fillmode": "overlay",
              "size": 10,
              "solidity": 0.2
             }
            },
            "type": "bar"
           }
          ],
          "barpolar": [
           {
            "marker": {
             "line": {
              "color": "#E5ECF6",
              "width": 0.5
             },
             "pattern": {
              "fillmode": "overlay",
              "size": 10,
              "solidity": 0.2
             }
            },
            "type": "barpolar"
           }
          ],
          "carpet": [
           {
            "aaxis": {
             "endlinecolor": "#2a3f5f",
             "gridcolor": "white",
             "linecolor": "white",
             "minorgridcolor": "white",
             "startlinecolor": "#2a3f5f"
            },
            "baxis": {
             "endlinecolor": "#2a3f5f",
             "gridcolor": "white",
             "linecolor": "white",
             "minorgridcolor": "white",
             "startlinecolor": "#2a3f5f"
            },
            "type": "carpet"
           }
          ],
          "choropleth": [
           {
            "colorbar": {
             "outlinewidth": 0,
             "ticks": ""
            },
            "type": "choropleth"
           }
          ],
          "contour": [
           {
            "colorbar": {
             "outlinewidth": 0,
             "ticks": ""
            },
            "colorscale": [
             [
              0,
              "#0d0887"
             ],
             [
              0.1111111111111111,
              "#46039f"
             ],
             [
              0.2222222222222222,
              "#7201a8"
             ],
             [
              0.3333333333333333,
              "#9c179e"
             ],
             [
              0.4444444444444444,
              "#bd3786"
             ],
             [
              0.5555555555555556,
              "#d8576b"
             ],
             [
              0.6666666666666666,
              "#ed7953"
             ],
             [
              0.7777777777777778,
              "#fb9f3a"
             ],
             [
              0.8888888888888888,
              "#fdca26"
             ],
             [
              1,
              "#f0f921"
             ]
            ],
            "type": "contour"
           }
          ],
          "contourcarpet": [
           {
            "colorbar": {
             "outlinewidth": 0,
             "ticks": ""
            },
            "type": "contourcarpet"
           }
          ],
          "heatmap": [
           {
            "colorbar": {
             "outlinewidth": 0,
             "ticks": ""
            },
            "colorscale": [
             [
              0,
              "#0d0887"
             ],
             [
              0.1111111111111111,
              "#46039f"
             ],
             [
              0.2222222222222222,
              "#7201a8"
             ],
             [
              0.3333333333333333,
              "#9c179e"
             ],
             [
              0.4444444444444444,
              "#bd3786"
             ],
             [
              0.5555555555555556,
              "#d8576b"
             ],
             [
              0.6666666666666666,
              "#ed7953"
             ],
             [
              0.7777777777777778,
              "#fb9f3a"
             ],
             [
              0.8888888888888888,
              "#fdca26"
             ],
             [
              1,
              "#f0f921"
             ]
            ],
            "type": "heatmap"
           }
          ],
          "histogram": [
           {
            "marker": {
             "pattern": {
              "fillmode": "overlay",
              "size": 10,
              "solidity": 0.2
             }
            },
            "type": "histogram"
           }
          ],
          "histogram2d": [
           {
            "colorbar": {
             "outlinewidth": 0,
             "ticks": ""
            },
            "colorscale": [
             [
              0,
              "#0d0887"
             ],
             [
              0.1111111111111111,
              "#46039f"
             ],
             [
              0.2222222222222222,
              "#7201a8"
             ],
             [
              0.3333333333333333,
              "#9c179e"
             ],
             [
              0.4444444444444444,
              "#bd3786"
             ],
             [
              0.5555555555555556,
              "#d8576b"
             ],
             [
              0.6666666666666666,
              "#ed7953"
             ],
             [
              0.7777777777777778,
              "#fb9f3a"
             ],
             [
              0.8888888888888888,
              "#fdca26"
             ],
             [
              1,
              "#f0f921"
             ]
            ],
            "type": "histogram2d"
           }
          ],
          "histogram2dcontour": [
           {
            "colorbar": {
             "outlinewidth": 0,
             "ticks": ""
            },
            "colorscale": [
             [
              0,
              "#0d0887"
             ],
             [
              0.1111111111111111,
              "#46039f"
             ],
             [
              0.2222222222222222,
              "#7201a8"
             ],
             [
              0.3333333333333333,
              "#9c179e"
             ],
             [
              0.4444444444444444,
              "#bd3786"
             ],
             [
              0.5555555555555556,
              "#d8576b"
             ],
             [
              0.6666666666666666,
              "#ed7953"
             ],
             [
              0.7777777777777778,
              "#fb9f3a"
             ],
             [
              0.8888888888888888,
              "#fdca26"
             ],
             [
              1,
              "#f0f921"
             ]
            ],
            "type": "histogram2dcontour"
           }
          ],
          "mesh3d": [
           {
            "colorbar": {
             "outlinewidth": 0,
             "ticks": ""
            },
            "type": "mesh3d"
           }
          ],
          "parcoords": [
           {
            "line": {
             "colorbar": {
              "outlinewidth": 0,
              "ticks": ""
             }
            },
            "type": "parcoords"
           }
          ],
          "pie": [
           {
            "automargin": true,
            "type": "pie"
           }
          ],
          "scatter": [
           {
            "fillpattern": {
             "fillmode": "overlay",
             "size": 10,
             "solidity": 0.2
            },
            "type": "scatter"
           }
          ],
          "scatter3d": [
           {
            "line": {
             "colorbar": {
              "outlinewidth": 0,
              "ticks": ""
             }
            },
            "marker": {
             "colorbar": {
              "outlinewidth": 0,
              "ticks": ""
             }
            },
            "type": "scatter3d"
           }
          ],
          "scattercarpet": [
           {
            "marker": {
             "colorbar": {
              "outlinewidth": 0,
              "ticks": ""
             }
            },
            "type": "scattercarpet"
           }
          ],
          "scattergeo": [
           {
            "marker": {
             "colorbar": {
              "outlinewidth": 0,
              "ticks": ""
             }
            },
            "type": "scattergeo"
           }
          ],
          "scattergl": [
           {
            "marker": {
             "colorbar": {
              "outlinewidth": 0,
              "ticks": ""
             }
            },
            "type": "scattergl"
           }
          ],
          "scattermap": [
           {
            "marker": {
             "colorbar": {
              "outlinewidth": 0,
              "ticks": ""
             }
            },
            "type": "scattermap"
           }
          ],
          "scattermapbox": [
           {
            "marker": {
             "colorbar": {
              "outlinewidth": 0,
              "ticks": ""
             }
            },
            "type": "scattermapbox"
           }
          ],
          "scatterpolar": [
           {
            "marker": {
             "colorbar": {
              "outlinewidth": 0,
              "ticks": ""
             }
            },
            "type": "scatterpolar"
           }
          ],
          "scatterpolargl": [
           {
            "marker": {
             "colorbar": {
              "outlinewidth": 0,
              "ticks": ""
             }
            },
            "type": "scatterpolargl"
           }
          ],
          "scatterternary": [
           {
            "marker": {
             "colorbar": {
              "outlinewidth": 0,
              "ticks": ""
             }
            },
            "type": "scatterternary"
           }
          ],
          "surface": [
           {
            "colorbar": {
             "outlinewidth": 0,
             "ticks": ""
            },
            "colorscale": [
             [
              0,
              "#0d0887"
             ],
             [
              0.1111111111111111,
              "#46039f"
             ],
             [
              0.2222222222222222,
              "#7201a8"
             ],
             [
              0.3333333333333333,
              "#9c179e"
             ],
             [
              0.4444444444444444,
              "#bd3786"
             ],
             [
              0.5555555555555556,
              "#d8576b"
             ],
             [
              0.6666666666666666,
              "#ed7953"
             ],
             [
              0.7777777777777778,
              "#fb9f3a"
             ],
             [
              0.8888888888888888,
              "#fdca26"
             ],
             [
              1,
              "#f0f921"
             ]
            ],
            "type": "surface"
           }
          ],
          "table": [
           {
            "cells": {
             "fill": {
              "color": "#EBF0F8"
             },
             "line": {
              "color": "white"
             }
            },
            "header": {
             "fill": {
              "color": "#C8D4E3"
             },
             "line": {
              "color": "white"
             }
            },
            "type": "table"
           }
          ]
         },
         "layout": {
          "annotationdefaults": {
           "arrowcolor": "#2a3f5f",
           "arrowhead": 0,
           "arrowwidth": 1
          },
          "autotypenumbers": "strict",
          "coloraxis": {
           "colorbar": {
            "outlinewidth": 0,
            "ticks": ""
           }
          },
          "colorscale": {
           "diverging": [
            [
             0,
             "#8e0152"
            ],
            [
             0.1,
             "#c51b7d"
            ],
            [
             0.2,
             "#de77ae"
            ],
            [
             0.3,
             "#f1b6da"
            ],
            [
             0.4,
             "#fde0ef"
            ],
            [
             0.5,
             "#f7f7f7"
            ],
            [
             0.6,
             "#e6f5d0"
            ],
            [
             0.7,
             "#b8e186"
            ],
            [
             0.8,
             "#7fbc41"
            ],
            [
             0.9,
             "#4d9221"
            ],
            [
             1,
             "#276419"
            ]
           ],
           "sequential": [
            [
             0,
             "#0d0887"
            ],
            [
             0.1111111111111111,
             "#46039f"
            ],
            [
             0.2222222222222222,
             "#7201a8"
            ],
            [
             0.3333333333333333,
             "#9c179e"
            ],
            [
             0.4444444444444444,
             "#bd3786"
            ],
            [
             0.5555555555555556,
             "#d8576b"
            ],
            [
             0.6666666666666666,
             "#ed7953"
            ],
            [
             0.7777777777777778,
             "#fb9f3a"
            ],
            [
             0.8888888888888888,
             "#fdca26"
            ],
            [
             1,
             "#f0f921"
            ]
           ],
           "sequentialminus": [
            [
             0,
             "#0d0887"
            ],
            [
             0.1111111111111111,
             "#46039f"
            ],
            [
             0.2222222222222222,
             "#7201a8"
            ],
            [
             0.3333333333333333,
             "#9c179e"
            ],
            [
             0.4444444444444444,
             "#bd3786"
            ],
            [
             0.5555555555555556,
             "#d8576b"
            ],
            [
             0.6666666666666666,
             "#ed7953"
            ],
            [
             0.7777777777777778,
             "#fb9f3a"
            ],
            [
             0.8888888888888888,
             "#fdca26"
            ],
            [
             1,
             "#f0f921"
            ]
           ]
          },
          "colorway": [
           "#636efa",
           "#EF553B",
           "#00cc96",
           "#ab63fa",
           "#FFA15A",
           "#19d3f3",
           "#FF6692",
           "#B6E880",
           "#FF97FF",
           "#FECB52"
          ],
          "font": {
           "color": "#2a3f5f"
          },
          "geo": {
           "bgcolor": "white",
           "lakecolor": "white",
           "landcolor": "#E5ECF6",
           "showlakes": true,
           "showland": true,
           "subunitcolor": "white"
          },
          "hoverlabel": {
           "align": "left"
          },
          "hovermode": "closest",
          "mapbox": {
           "style": "light"
          },
          "paper_bgcolor": "white",
          "plot_bgcolor": "#E5ECF6",
          "polar": {
           "angularaxis": {
            "gridcolor": "white",
            "linecolor": "white",
            "ticks": ""
           },
           "bgcolor": "#E5ECF6",
           "radialaxis": {
            "gridcolor": "white",
            "linecolor": "white",
            "ticks": ""
           }
          },
          "scene": {
           "xaxis": {
            "backgroundcolor": "#E5ECF6",
            "gridcolor": "white",
            "gridwidth": 2,
            "linecolor": "white",
            "showbackground": true,
            "ticks": "",
            "zerolinecolor": "white"
           },
           "yaxis": {
            "backgroundcolor": "#E5ECF6",
            "gridcolor": "white",
            "gridwidth": 2,
            "linecolor": "white",
            "showbackground": true,
            "ticks": "",
            "zerolinecolor": "white"
           },
           "zaxis": {
            "backgroundcolor": "#E5ECF6",
            "gridcolor": "white",
            "gridwidth": 2,
            "linecolor": "white",
            "showbackground": true,
            "ticks": "",
            "zerolinecolor": "white"
           }
          },
          "shapedefaults": {
           "line": {
            "color": "#2a3f5f"
           }
          },
          "ternary": {
           "aaxis": {
            "gridcolor": "white",
            "linecolor": "white",
            "ticks": ""
           },
           "baxis": {
            "gridcolor": "white",
            "linecolor": "white",
            "ticks": ""
           },
           "bgcolor": "#E5ECF6",
           "caxis": {
            "gridcolor": "white",
            "linecolor": "white",
            "ticks": ""
           }
          },
          "title": {
           "x": 0.05
          },
          "xaxis": {
           "automargin": true,
           "gridcolor": "white",
           "linecolor": "white",
           "ticks": "",
           "title": {
            "standoff": 15
           },
           "zerolinecolor": "white",
           "zerolinewidth": 2
          },
          "yaxis": {
           "automargin": true,
           "gridcolor": "white",
           "linecolor": "white",
           "ticks": "",
           "title": {
            "standoff": 15
           },
           "zerolinecolor": "white",
           "zerolinewidth": 2
          }
         }
        }
       }
      }
     },
     "metadata": {},
     "output_type": "display_data"
    }
   ],
   "source": [
    "csv_path = None # e.g \"../exp/..\" : the path to the CSV file with SHD_equiparams results\n",
    "figure_path = \"../figures/\"\n",
    "use_log_x = False\n",
    "acc_in_pct = True\n",
    "\n",
    "def hex_to_rgba(hex_color, alpha=0.18):  \n",
    "    h = hex_color.lstrip(\"#\")\n",
    "    r, g, b = int(h[0:2], 16), int(h[2:4], 16), int(h[4:6], 16)\n",
    "    return f\"rgba({r},{g},{b},{alpha})\"\n",
    "\n",
    "\n",
    "df = pd.read_csv(csv_path)\n",
    "\n",
    "df = df.dropna(subset=[\"model\", \"num_params\", \"final_test_acc\", \"seed\"])\n",
    "df[\"num_params\"] = pd.to_numeric(df[\"num_params\"], errors=\"coerce\")\n",
    "df = df.dropna(subset=[\"num_params\"])\n",
    "df[\"num_params\"] = df[\"num_params\"].astype(int)\n",
    "\n",
    "df = df.sort_index().drop_duplicates(subset=[\"model\", \"num_params\", \"seed\"], keep=\"last\")\n",
    "\n",
    "grp = (\n",
    "    df.groupby([\"model\", \"num_params\"])\n",
    "      .agg(\n",
    "          mean_acc=(\"final_test_acc\", \"mean\"),\n",
    "          std_acc=(\"final_test_acc\", \"std\"),\n",
    "          n=(\"seed\", \"nunique\"),\n",
    "      )\n",
    "      .reset_index()\n",
    ")\n",
    "\n",
    "grp[\"sem_acc\"] = grp.apply(\n",
    "    lambda r: 0.0 if (pd.isna(r[\"std_acc\"]) or r[\"n\"] <= 1) else r[\"std_acc\"] / math.sqrt(r[\"n\"]),\n",
    "    axis=1\n",
    ")\n",
    "\n",
    "\n",
    "if acc_in_pct:\n",
    "    grp[\"std_acc_plot\"] = grp[\"std_acc\"]\n",
    "else:\n",
    "    grp[\"std_acc_plot\"] = 100.0 * grp[\"std_acc\"]\n",
    "\n",
    "acc_in_pct = grp[\"mean_acc\"].max() > 1.001\n",
    "if acc_in_pct:\n",
    "    grp[\"mean_acc_plot\"] = grp[\"mean_acc\"]\n",
    "    grp[\"sem_acc_plot\"]  = grp[\"sem_acc\"]\n",
    "    yaxis_title = \"Test accuracy (%)\"\n",
    "else:\n",
    "    grp[\"mean_acc_plot\"] = 100.0 * grp[\"mean_acc\"]\n",
    "    grp[\"sem_acc_plot\"]  = 100.0 * grp[\"sem_acc\"]\n",
    "    yaxis_title = \"Test accuracy (%)\"\n",
    "\n",
    "grp = grp.sort_values([\"model\", \"num_params\"]).reset_index(drop=True)\n",
    "\n",
    "fig = go.Figure()\n",
    "palette = px.colors.qualitative.Plotly\n",
    "models = grp[\"model\"].unique()\n",
    "\n",
    "for i, model in enumerate(models):\n",
    "    g = grp[grp[\"model\"] == model].sort_values(\"num_params\")\n",
    "    color = palette[i % len(palette)]\n",
    "    fillcol = hex_to_rgba(color, 0.18)\n",
    "\n",
    "    x = g[\"num_params\"].to_numpy()\n",
    "    y = g[\"mean_acc_plot\"].to_numpy()\n",
    "    sem = g[\"sem_acc_plot\"].to_numpy()\n",
    "\n",
    "    y_lower = np.clip(y - sem, 0.0, 100.0)\n",
    "    y_upper = np.clip(y + sem, 0.0, 100.0)\n",
    "\n",
    "    fig.add_trace(go.Scatter(\n",
    "        x=x, y=y_lower, mode=\"lines\",\n",
    "        line=dict(width=0), hoverinfo=\"skip\",\n",
    "        showlegend=False, legendgroup=model\n",
    "    ))\n",
    "\n",
    "    fig.add_trace(go.Scatter(\n",
    "        x=x, y=y_upper, mode=\"lines\",\n",
    "        line=dict(width=0), fill=\"tonexty\", fillcolor=fillcol,\n",
    "        hoverinfo=\"skip\", showlegend=True, legendgroup=model,\n",
    "        name=f\"{model} ± SEM\"\n",
    "    ))\n",
    "\n",
    "    fig.add_trace(go.Scatter(\n",
    "        x=x, y=y, mode=\"lines+markers\",\n",
    "        name=f\"{model} mean\", legendgroup=model,\n",
    "        line=dict(color=color), marker=dict(color=color),\n",
    "        hovertemplate=(\n",
    "            \"<b>%{fullData.name}</b><br>\" +\n",
    "            \"#params: %{x}<br>\" +\n",
    "            \"Acc: %{y:.2f}%<br>\" +\n",
    "            \"SEM: %{customdata:.2f}%<extra></extra>\"\n",
    "        ),\n",
    "        customdata=np.round(sem, 4),\n",
    "    ))\n",
    "\n",
    "\n",
    "if use_log_x:\n",
    "    fig.update_xaxes(type=\"log\")\n",
    "    \n",
    "os.makedirs(figure_path, exist_ok=True)\n",
    "\n",
    "svg_path = os.path.join(os.path.dirname(figure_path), \"accuracy_vs_params.svg\")\n",
    "fig.write_image(svg_path, format=\"svg\", width=800, height=600, scale=1)\n",
    "print(f\"Saved SVG to: {svg_path}\")\n",
    "fig.show()"
   ]
  },
  {
   "cell_type": "markdown",
   "metadata": {},
   "source": [
    "# Spike penalization"
   ]
  },
  {
   "cell_type": "code",
   "execution_count": null,
   "metadata": {},
   "outputs": [],
   "source": [
    "csv_path = None # e.g \"../exp/..\" : the path to the CSV file with SHD_penalize_spikes results\n",
    "figure_path = \"../figures/\"\n",
    "use_log_x = False\n",
    "\n",
    "x_limit = 0.09         \n",
    "models_to_plot = ['SNN', 'SNN_recurrent_delays', 'SNN_feedforward_delays']  \n",
    "\n",
    "df = pd.read_csv(csv_path)\n",
    "\n",
    "need_cols = [\"model\", \"seed\", \"lambda_spike\", \"final_test_acc\", \"mean_spikes_test\"]\n",
    "missing = [c for c in need_cols if c not in df.columns]\n",
    "if missing:\n",
    "    raise ValueError(f\"CSV is missing required columns: {missing}\")\n",
    "\n",
    "df = df.dropna(subset=need_cols)\n",
    "df = df.sort_index().drop_duplicates(subset=[\"model\", \"lambda_spike\", \"seed\"], keep=\"last\")\n",
    "\n",
    "grp = (\n",
    "    df.groupby([\"model\", \"lambda_spike\"])\n",
    "      .agg(\n",
    "          n=(\"seed\", \"nunique\"),\n",
    "          mean_acc=(\"final_test_acc\", \"mean\"),\n",
    "          std_acc=(\"final_test_acc\", \"std\"),\n",
    "          mean_spk=(\"mean_spikes_test\", \"mean\"),\n",
    "          std_spk=(\"mean_spikes_test\", \"std\"),\n",
    "      )\n",
    "      .reset_index()\n",
    ")\n",
    "\n",
    "grp[\"sem_acc\"] = grp.apply(\n",
    "    lambda r: 0.0 if (pd.isna(r[\"std_acc\"]) or r[\"n\"] <= 1) else r[\"std_acc\"] / math.sqrt(r[\"n\"]),\n",
    "    axis=1\n",
    ")\n",
    "grp[\"sem_spk\"] = grp.apply(\n",
    "    lambda r: 0.0 if (pd.isna(r[\"std_spk\"]) or r[\"n\"] <= 1) else r[\"std_spk\"] / math.sqrt(r[\"n\"]),\n",
    "    axis=1\n",
    ")\n",
    "\n",
    "acc_in_pct = grp[\"mean_acc\"].max() > 1.001\n",
    "if acc_in_pct:\n",
    "    grp[\"mean_acc_plot\"] = grp[\"mean_acc\"]\n",
    "    grp[\"sem_acc_plot\"]  = grp[\"sem_acc\"]\n",
    "    yaxis_title = \"Test accuracy (%)\"\n",
    "else:\n",
    "    grp[\"mean_acc_plot\"] = 100.0 * grp[\"mean_acc\"]\n",
    "    grp[\"sem_acc_plot\"]  = 100.0 * grp[\"sem_acc\"]\n",
    "    yaxis_title = \"Test accuracy (%)\"\n",
    "\n",
    "grp = grp.sort_values([\"model\", \"mean_spk\"]).reset_index(drop=True)\n",
    "\n",
    "if models_to_plot is not None:\n",
    "    models_to_plot = set(models_to_plot)\n",
    "    grp = grp[grp[\"model\"].isin(models_to_plot)].copy()\n",
    "    \n",
    "if x_limit is not None:\n",
    "    grp = grp[grp[\"mean_spk\"] <= float(x_limit)].copy()\n",
    "    \n",
    "grp = grp.sort_values([\"model\", \"mean_spk\"]).reset_index(drop=True)\n",
    "\n",
    "def hex_to_rgba(hx, alpha=0.18):\n",
    "    hx = hx.lstrip(\"#\")\n",
    "    r, g, b = int(hx[0:2], 16), int(hx[2:4], 16), int(hx[4:6], 16)\n",
    "    return f\"rgba({r},{g},{b},{alpha})\"\n",
    "\n",
    "fig = go.Figure()\n",
    "palette = px.colors.qualitative.Plotly\n",
    "models = grp[\"model\"].unique()\n",
    "\n",
    "for i, model in enumerate(models):\n",
    "    g = grp[grp[\"model\"] == model].sort_values(\"mean_spk\")\n",
    "    if g.empty:\n",
    "        continue  \n",
    "\n",
    "    color = palette[i % len(palette)]\n",
    "    band = hex_to_rgba(color, 0.20)\n",
    "\n",
    "    x = g[\"mean_spk\"].to_numpy()\n",
    "    y = g[\"mean_acc_plot\"].to_numpy()\n",
    "    sem_y = g[\"sem_acc_plot\"].to_numpy()\n",
    "\n",
    "    if x.size == 0:\n",
    "        continue\n",
    "\n",
    "    x_band = np.concatenate([x, x[::-1]])\n",
    "    y_band = np.concatenate([np.clip(y - sem_y, 0, 100), np.clip(y + sem_y, 0, 100)[::-1]])\n",
    "    fig.add_trace(go.Scatter(\n",
    "        x=x_band, y=y_band,\n",
    "        fill=\"toself\", fillcolor=band,\n",
    "        line=dict(width=0),\n",
    "        hoverinfo=\"skip\",\n",
    "        showlegend=False,\n",
    "        legendgroup=model\n",
    "    ))\n",
    "\n",
    "    fig.add_trace(go.Scatter(\n",
    "        x=x, y=y,\n",
    "        mode=\"lines+markers\",\n",
    "        name=model,\n",
    "        line=dict(color=color, width=2),\n",
    "        marker=dict(color=color, size=6),\n",
    "        legendgroup=model,\n",
    "        customdata=np.stack([g[\"lambda_spike\"], g[\"n\"], g[\"sem_spk\"]], axis=1),\n",
    "        hovertemplate=(\n",
    "            \"<b>%{fullData.name}</b><br>\"\n",
    "            \"λ: %{customdata[0]}<br>\"\n",
    "            \"Mean spikes: %{x:.6f} ± %{customdata[2]:.6f}<br>\"\n",
    "            \"Accuracy: %{y:.2f}% (mean ± SEM shown)<br>\"\n",
    "            \"Seeds: %{customdata[1]}<extra></extra>\"\n",
    "        ),\n",
    "    ))\n",
    "\n",
    "fig.update_layout(\n",
    "    title=\"Accuracy vs. mean spike rate (per neuron · per timestep)\\n(mean ± s.e.m. over seeds)\",\n",
    "    xaxis_title=\"Mean spikes per neuron per timestep\",\n",
    "    yaxis_title=yaxis_title,\n",
    "    legend_title=\"Model\",\n",
    "    hovermode=\"x unified\",\n",
    "    template=\"plotly_white\",\n",
    ")\n",
    "\n",
    "if use_log_x:\n",
    "    fig.update_xaxes(type=\"log\")\n",
    "    if x_limit is not None and not grp.empty:\n",
    "        pos_x = grp.loc[grp[\"mean_spk\"] > 0, \"mean_spk\"]\n",
    "        if not pos_x.empty:\n",
    "            xmin = pos_x.min()\n",
    "            fig.update_xaxes(range=[np.log10(xmin), np.log10(x_limit)])\n",
    "else:\n",
    "    if x_limit is not None and not grp.empty:\n",
    "        xmin = grp[\"mean_spk\"].min()\n",
    "        fig.update_xaxes(range=[xmin - 0.002, x_limit])\n",
    "\n",
    "fig.update_yaxes(\n",
    "    ticks=\"outside\", ticklen=6, tickwidth=1.5, tickcolor=\"black\",\n",
    "    showline=True, linecolor=\"black\", linewidth=2\n",
    ")\n",
    "\n",
    "os.makedirs(figure_path, exist_ok=True)\n",
    "\n",
    "svg_path = os.path.join(os.path.dirname(figure_path), \"accuracy_vs_spikes.svg\")\n",
    "fig.write_image(svg_path, format=\"svg\", width=800, height=600, scale=1)\n",
    "print(f\"Saved SVG to: {svg_path}\")\n",
    "fig.show()"
   ]
  }
 ],
 "metadata": {
  "kernelspec": {
   "display_name": "py310",
   "language": "python",
   "name": "python3"
  },
  "language_info": {
   "codemirror_mode": {
    "name": "ipython",
    "version": 3
   },
   "file_extension": ".py",
   "mimetype": "text/x-python",
   "name": "python",
   "nbconvert_exporter": "python",
   "pygments_lexer": "ipython3",
   "version": "3.10.14"
  }
 },
 "nbformat": 4,
 "nbformat_minor": 2
}
